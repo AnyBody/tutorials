{
 "cells": [
  {
   "cell_type": "markdown",
   "metadata": {},
   "source": [
    "# Optimization Studies in Python\n",
    "\n",
    "The optimization study introduced in the preceding lesson used AnyBody's builtin\n",
    "facilities for optimizing. Sometimes that is not enough, either because the\n",
    "objective functions depends on data that is not easily included in AnyBody, or\n",
    "because a different solver is needed.\n",
    "\n",
    "In this tutorial we use an external optimizer together with AnyBody. The example\n",
    "is based on the model from the {doc}`previous lesson <../lesson2>` but uses an\n",
    "optimizer from the [Scipy](https://scipy.org/) python library. The same\n",
    "could also have been achived with other optimization frameworks (like [NLopt](https://nlopt.readthedocs.io/en/latest/), or languages like [MatLab](https://www.mathworks.com/products/matlab.html)). The example is written and run in [Jupyter Lab](https://jupyter.org/), but the Python script can also be run from other environments.\n",
    "\n",
    "\n",
    "## Example Python Script\n",
    "\n",
    "First we show the full Python script used in this tutorial.\n",
    "Afterwards, we will go through it and explain the different sections in the file. \n",
    "The first part below is the Python script, followed by the corresponding results from Jupyter Lab.\n",
    "\n"
   ]
  },
  {
   "cell_type": "code",
   "execution_count": null,
   "metadata": {},
   "outputs": [
    {
     "name": "stdout",
     "output_type": "stream",
     "text": [
      " message: Optimization terminated successfully\n",
      " success: True\n",
      "  status: 0\n",
      "     fun: 503.5763438548318\n",
      "       x: [ 6.501e-01 -1.139e-01]\n",
      "     nit: 12\n",
      "     jac: [ 3.944e+01 -6.962e+00]\n",
      "    nfev: 45\n",
      "    njev: 12\n"
     ]
    }
   ],
   "source": [
    "import math\n",
    "\n",
    "import scipy\n",
    "from anypytools import AnyPyProcess\n",
    "from anypytools.macro_commands import Load, OperationRun, Dump, SetValue\n",
    "\n",
    "\n",
    "def run_model(saddle_height, saddle_pos, silent=False):\n",
    "    \"\"\" Run the AnyBody model and return the metabolism results \"\"\"\n",
    "    \n",
    "    macro = [\n",
    "        Load(\"BikeModel2D.main.any\"),\n",
    "        SetValue(\"Main.BikeParameters.SaddleHeight\", saddle_height),\n",
    "        SetValue(\"Main.BikeParameters.SaddlePos\", saddle_pos),\n",
    "        OperationRun(\"Main.Study.InverseDynamics\"),\n",
    "        Dump(\"Main.Study.Output.Pmet_total\"),\n",
    "        Dump(\"Main.Study.Output.Abscissa.t\"),\n",
    "    ]\n",
    "    app = AnyPyProcess(silent=silent)\n",
    "    results = app.start_macro(macro)\n",
    "    return results[0]\n",
    "\n",
    "\n",
    "def objfun(x):\n",
    "    \"\"\" Calculate the objective function value \"\"\"\n",
    "    \n",
    "    saddle_height = x[0]\n",
    "    saddle_pos = x[1]\n",
    "    result = run_model(saddle_height, saddle_pos, silent=True)\n",
    "\n",
    "    if \"ERROR\" in result:\n",
    "        raise ValueError(\"Failed to run model\")\n",
    "    \n",
    "    # Integrate Pmet_total\n",
    "    pmet = scipy.integrate.trapezoid(result[\"Pmet_total\"], result[\"Abscissa.t\"])\n",
    "\n",
    "    return float(pmet)\n",
    "\n",
    "\n",
    "def seat_distance_constraint(designvars):\n",
    "    \"\"\" Compute contraint value which must be larger than zero \"\"\"\n",
    "    \n",
    "    return math.sqrt(designvars[0] ** 2 + designvars[1] ** 2) - 0.66\n",
    "\n",
    "\n",
    "CONSTRAINT = {\"type\": \"ineq\", \"fun\": seat_distance_constraint}\n",
    "BOUNDS = [(0.61, 0.69), (-0.20, -0.05)]\n",
    "INITIAL_GUESS = (0.68, -0.15)\n",
    "\n",
    "solution = scipy.optimize.minimize(\n",
    "    objfun, INITIAL_GUESS, constraints=CONSTRAINT, bounds=BOUNDS, method=\"SLSQP\"\n",
    ")\n",
    "\n",
    "print(solution)\n"
   ]
  },
  {
   "cell_type": "markdown",
   "metadata": {},
   "source": [
    "### Getting Started: Development Environment Setup\n",
    "\n",
    "You can download the code for this tutorial as an interactive Python (Jupyter) notebook. \n",
    "Download and extract {download}`this zip-file <../Downloads/Python-Optimization.zip>`. \n",
    "\n",
    "Running the notebook requires a Python environment with the necessary libraries installed (`jupyter`, `anypytools`, `scipy`).\n",
    "\n",
    "See the following section for easy instructions on how to easily install these libraries.\n",
    "\n",
    "\n",
    "````{admonition} Installing Python, Jupyter, and AnyPyTools\n",
    ":class: tip dropdown\n",
    "\n",
    "The absolute easiest way to get the notebook running is with the [Pixi](https://pixi.sh/) package manager.\n",
    "\n",
    "Simply run the following command in a powershell terminal to install Pixi (or see [here for altinative installation methods](https://pixi.sh/latest/#__tabbed_1_2)):\n",
    "\n",
    "```powershell\n",
    "iwr -useb https://pixi.sh/install.ps1 | iex\n",
    "```\n",
    "\n",
    "Then open a command prompt in the folder you extracted from the zip file above.\n",
    "Then run the following command to start the notebook:\n",
    "\n",
    "```bat  \n",
    "C:\\path-to-folder> pixi run jupyter lab lesson3.ipynb\n",
    "```\n",
    "\n",
    "pixi will automatically download and install Python along with all the necessary libararies in virtual environment. Then it will start Jupyter Lab in your web browser.\n",
    "\n",
    "````\n",
    "\n",
    "\n",
    "## Importing the Necessary Libraries\n",
    "\n",
    ":::{role} python(code)\n",
    ":language: python\n",
    ":::\n",
    "\n",
    "The first part of the code is the {python}`import` statements. They include the\n",
    "libraries which is used by the code:"
   ]
  },
  {
   "cell_type": "code",
   "execution_count": null,
   "metadata": {},
   "outputs": [],
   "source": [
    "import math\n",
    "import scipy\n",
    "\n",
    "from anypytools import AnyPyProcess\n",
    "from anypytools.macro_commands import Load, OperationRun, Dump, SetValue"
   ]
  },
  {
   "cell_type": "markdown",
   "metadata": {},
   "source": [
    "## Running a Model From Python\n",
    "\n",
    "For the external optimizers to work, we need a way to run AnyBody models from\n",
    "Python and record the results of the simulations. We will create a\n",
    "function called {python}`run_model()` to do this. There are more information on how to do this in the\n",
    "[documentaion for AnyPyTools](https://anybody-research-group.github.io/anypytools-docs/). So here we will\n",
    "just show how the code for this function looks and not discuss its details. \n",
    "Executing the code cell in Jupyter Lab should give the following output:"
   ]
  },
  {
   "cell_type": "code",
   "execution_count": 8,
   "metadata": {},
   "outputs": [
    {
     "data": {
      "application/vnd.jupyter.widget-view+json": {
       "model_id": "0f7db486a3f04b19975ffee4b47bfd20",
       "version_major": 2,
       "version_minor": 0
      },
      "text/plain": [
       "  0%|          | 0/1 [00:00<?, ?it/s]"
      ]
     },
     "metadata": {},
     "output_type": "display_data"
    },
    {
     "name": "stdout",
     "output_type": "stream",
     "text": [
      "Completed: 1\n",
      "[  17.20903341   73.49291834  209.58490241  379.67002659  559.57715608\n",
      "  736.92126247  901.88875426 1045.75303378 1162.65470516 1248.32088806\n",
      " 1299.79539032 1315.38241529 1294.6947524  1238.68684947 1149.59584772\n",
      " 1030.78784505  886.60667952  722.43408728  547.1840971   368.64175002\n",
      "  198.07134668   53.41928909   25.84379129   30.60376508   23.17442367\n",
      "   24.30809055  139.3209062   292.35610808  469.73382854  649.02576552\n",
      "  821.74094457  977.02863522 1108.05435136 1209.79739513 1278.65973442\n",
      " 1312.31195028 1309.70451022 1271.1212895  1198.17227557 1093.68215448\n",
      "  961.51890402  806.51623776  634.74029158  458.00117565  280.40563034\n",
      "  121.30841553   21.54859903   28.97200722   26.82989147   17.2090334 ]\n"
     ]
    }
   ],
   "source": [
    "def run_model(saddle_height, saddle_pos, silent=False):\n",
    "    #Run the AnyBody model and return the metabolism results\n",
    "    macro = [\n",
    "        Load(\"BikeModel2D.main.any\"),\n",
    "        SetValue(\"Main.BikeParameters.SaddleHeight\", saddle_height),\n",
    "        SetValue(\"Main.BikeParameters.SaddlePos\", saddle_pos),\n",
    "        OperationRun(\"Main.Study.InverseDynamics\"),\n",
    "        Dump(\"Main.Study.Output.Pmet_total\"),\n",
    "        Dump(\"Main.Study.Output.Abscissa.t\"),\n",
    "    ]\n",
    "    app = AnyPyProcess(silent=silent)\n",
    "    results = app.start_macro(macro)\n",
    "    return results[0]\n",
    "\n",
    "\n",
    "result = run_model(0.66, -0.16)\n",
    "print(result[\"Main.Study.Output.Pmet_total\"])"
   ]
  },
  {
   "cell_type": "markdown",
   "metadata": {},
   "source": [
    "In generel terms the function {python}`run_model()` takes the {python}`saddle_height` and {python}`saddle_pos` as input\n",
    "and returns the total metabolism as output `Pmet_total` from the AnyBody model. It begins by loading the AnyBody model file BikeModel2D.main.any \n",
    "and sets the {python}`saddle_height` and {python}`saddle_pos` parameters. The function then runs the inverse dynamics study and finally \n",
    "returns the `Pmet_total` values for each time step.\n",
    "\n",
    "As we expected the above output contains the total metabolism of the muscles, the `Main.Study.Output.Pmet_total` value, for each timestep in our model.\n",
    "\n",
    "## Defining the Objective Function\n",
    "\n",
    "The next step is to define the objective function called {python}`objfun()`. The objective function should\n",
    "take a list of design values as input and return the objective function value.\n",
    "In {doc}`Lesson 2 <../lesson2>` the objective function was the time integral of the\n",
    "metabolism variable. So we will define it similarly here using Scipy's\n",
    "{func}`numpy.trapz` function."
   ]
  },
  {
   "cell_type": "code",
   "execution_count": 9,
   "metadata": {},
   "outputs": [
    {
     "name": "stdout",
     "output_type": "stream",
     "text": [
      "505.3293995327723\n"
     ]
    }
   ],
   "source": [
    "def objfun(x):\n",
    "    #Calculate the objective function value\n",
    "    saddle_height = x[0]\n",
    "    saddle_pos = x[1]\n",
    "    result = run_model(saddle_height, saddle_pos, silent=True)\n",
    "\n",
    "    if \"ERROR\" in result:\n",
    "        raise ValueError(\"Failed to run model\")\n",
    "    \n",
    "    # Integrate Pmet_total\n",
    "    pmet = scipy.integrate.trapezoid(result[\"Pmet_total\"], result[\"Abscissa.t\"])\n",
    "\n",
    "    return float(pmet)\n",
    "\n",
    "\n",
    "result_pmet = objfun([0.66, -0.16])\n",
    "print(result_pmet)"
   ]
  },
  {
   "cell_type": "markdown",
   "metadata": {},
   "source": [
    ":::{note}\n",
    "The function also checks the results for errors reported\n",
    "by AnyBody and raises a {py:exc}`ValueError` exception if that happens.\n",
    "There could be ways to handle errors without failing but it is important to\n",
    "handle model failures, otherwise they may go unnoticed or mess with the\n",
    "optimization results.\n",
    ":::\n",
    "\n",
    "Executing the code cell returns the time integral of the `Pmet_total` variable as a single value,\n",
    "and we are now ready to define the optimization process. The interpretation of this number is the total metabolism of the muscles over the entire simulation time for the given values of {python}`saddle_height` and {python}`saddle_pos`.\n",
    "\n",
    "## Setting Up the Optimization Study\n",
    "\n",
    "We wrap things up by creating a function, {ref}`similar to what we did in AnyBody <optimization-contraint>`,\n",
    "as well as defining the constraints, bounds and initial guess\n",
    "for the design variables."
   ]
  },
  {
   "cell_type": "code",
   "execution_count": 10,
   "metadata": {},
   "outputs": [],
   "source": [
    "def seat_distance_constraint(x):\n",
    "     #Compute contraint value which must be larger than zero\n",
    "     return (math.sqrt(x[0] ** 2 + x[1] ** 2) - 0.66)\n",
    "\n",
    "\n",
    "constraints = {\"type\": \"ineq\", \"fun\": seat_distance_constraint}\n",
    "bounds = [(0.61, 0.69), (-0.20, -0.05)]\n",
    "initial_guess = (0.68, -0.15)"
   ]
  },
  {
   "cell_type": "markdown",
   "metadata": {},
   "source": [
    "Finally, we call the `scipy.optimize.minimize` function and run the optimizer. This function minimizes the objective function while respecting the constraints and bounds. In this case we used the\n",
    "[SLSQP](https://docs.scipy.org/doc/scipy/reference/optimize.minimize-slsqp.html#optimize-minimize-slsqp) algorithm.\n",
    "\n",
    ":::{note}\n",
    ":class: margin\n",
    "The documentation {py:func}`scipy.optimize.minimize` has more information on bounds, contraints, tolerances, methods etc.\n",
    ":::"
   ]
  },
  {
   "cell_type": "code",
   "execution_count": 11,
   "metadata": {},
   "outputs": [
    {
     "name": "stdout",
     "output_type": "stream",
     "text": [
      " message: Optimization terminated successfully\n",
      " success: True\n",
      "  status: 0\n",
      "     fun: 503.5763438548318\n",
      "       x: [ 6.501e-01 -1.139e-01]\n",
      "     nit: 12\n",
      "     jac: [ 3.944e+01 -6.962e+00]\n",
      "    nfev: 45\n",
      "    njev: 12\n"
     ]
    }
   ],
   "source": [
    "solution = scipy.optimize.minimize(\n",
    "    objfun, initial_guess, constraints=constraints, bounds=bounds, method=\"SLSQP\"\n",
    ")\n",
    "\n",
    "print(solution)"
   ]
  },
  {
   "cell_type": "markdown",
   "metadata": {},
   "source": [
    "Executing the code cell should give the above output, indicating that the optimization study was successfully completed. The optimal values for the design variables are determined to be `saddle_height = 0.6501` and `saddle_pos = -0.1139` resulting in a value of `503.58` for the objective function.\n",
    "\n",
    "And there we have it! You have now used the optimizer from the Scipy Python library to optimize the AnyBody model.\n",
    "You can now take advantage of the many different algorithms and settings available for {py:func}`scipy.optimize.minimize`.\n",
    "It is also possible to use a different package or customize our own algorithm, constraints etc.\n",
    "\n",
    "The possibilities are practically endless. \n",
    "\n",
    "For more information regarding the `AnyPyTools` python package follow [this link.](https://anybody-research-group.github.io/anypytools-docs/)\n",
    "or check out this [webcast.](https://www.youtube.com/results?search_query=anybody+webcast+batch)\n"
   ]
  }
 ],
 "metadata": {
  "kernelspec": {
   "display_name": "default",
   "language": "python",
   "name": "python3"
  },
  "language_info": {
   "codemirror_mode": {
    "name": "ipython",
    "version": 3
   },
   "file_extension": ".py",
   "mimetype": "text/x-python",
   "name": "python",
   "nbconvert_exporter": "python",
   "pygments_lexer": "ipython3",
   "version": "3.11.9"
  }
 },
 "nbformat": 4,
 "nbformat_minor": 2
}
